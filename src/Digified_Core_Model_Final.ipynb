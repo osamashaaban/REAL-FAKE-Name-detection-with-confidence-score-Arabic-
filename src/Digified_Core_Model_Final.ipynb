{
  "nbformat": 4,
  "nbformat_minor": 0,
  "metadata": {
    "colab": {
      "provenance": [],
      "collapsed_sections": [
        "vtnKAOh99vrK",
        "vAoUEOJb9HIL"
      ]
    },
    "kernelspec": {
      "name": "python3",
      "display_name": "Python 3"
    },
    "language_info": {
      "name": "python"
    },
    "accelerator": "GPU",
    "gpuClass": "standard"
  },
  "cells": [
    {
      "cell_type": "code",
      "source": [
        "!pip install transformers\n",
        "!pip install arabic-stopwords\n",
        "!pip install nlpaug\n",
        "!pip install tashaphyne"
      ],
      "metadata": {
        "colab": {
          "base_uri": "https://localhost:8080/"
        },
        "id": "Ns50HY3EAPLQ",
        "outputId": "a03b8052-01c5-46a6-b94b-38da38abcaa1"
      },
      "execution_count": 3,
      "outputs": [
        {
          "output_type": "stream",
          "name": "stdout",
          "text": [
            "Looking in indexes: https://pypi.org/simple, https://us-python.pkg.dev/colab-wheels/public/simple/\n",
            "Collecting transformers\n",
            "  Downloading transformers-4.25.1-py3-none-any.whl (5.8 MB)\n",
            "\u001b[K     |████████████████████████████████| 5.8 MB 33.6 MB/s \n",
            "\u001b[?25hRequirement already satisfied: requests in /usr/local/lib/python3.8/dist-packages (from transformers) (2.23.0)\n",
            "Requirement already satisfied: tqdm>=4.27 in /usr/local/lib/python3.8/dist-packages (from transformers) (4.64.1)\n",
            "Requirement already satisfied: packaging>=20.0 in /usr/local/lib/python3.8/dist-packages (from transformers) (21.3)\n",
            "Requirement already satisfied: pyyaml>=5.1 in /usr/local/lib/python3.8/dist-packages (from transformers) (6.0)\n",
            "Requirement already satisfied: numpy>=1.17 in /usr/local/lib/python3.8/dist-packages (from transformers) (1.21.6)\n",
            "Requirement already satisfied: filelock in /usr/local/lib/python3.8/dist-packages (from transformers) (3.8.0)\n",
            "Collecting tokenizers!=0.11.3,<0.14,>=0.11.1\n",
            "  Downloading tokenizers-0.13.2-cp38-cp38-manylinux_2_17_x86_64.manylinux2014_x86_64.whl (7.6 MB)\n",
            "\u001b[K     |████████████████████████████████| 7.6 MB 59.6 MB/s \n",
            "\u001b[?25hCollecting huggingface-hub<1.0,>=0.10.0\n",
            "  Downloading huggingface_hub-0.11.1-py3-none-any.whl (182 kB)\n",
            "\u001b[K     |████████████████████████████████| 182 kB 76.4 MB/s \n",
            "\u001b[?25hRequirement already satisfied: regex!=2019.12.17 in /usr/local/lib/python3.8/dist-packages (from transformers) (2022.6.2)\n",
            "Requirement already satisfied: typing-extensions>=3.7.4.3 in /usr/local/lib/python3.8/dist-packages (from huggingface-hub<1.0,>=0.10.0->transformers) (4.4.0)\n",
            "Requirement already satisfied: pyparsing!=3.0.5,>=2.0.2 in /usr/local/lib/python3.8/dist-packages (from packaging>=20.0->transformers) (3.0.9)\n",
            "Requirement already satisfied: certifi>=2017.4.17 in /usr/local/lib/python3.8/dist-packages (from requests->transformers) (2022.9.24)\n",
            "Requirement already satisfied: idna<3,>=2.5 in /usr/local/lib/python3.8/dist-packages (from requests->transformers) (2.10)\n",
            "Requirement already satisfied: chardet<4,>=3.0.2 in /usr/local/lib/python3.8/dist-packages (from requests->transformers) (3.0.4)\n",
            "Requirement already satisfied: urllib3!=1.25.0,!=1.25.1,<1.26,>=1.21.1 in /usr/local/lib/python3.8/dist-packages (from requests->transformers) (1.24.3)\n",
            "Installing collected packages: tokenizers, huggingface-hub, transformers\n",
            "Successfully installed huggingface-hub-0.11.1 tokenizers-0.13.2 transformers-4.25.1\n",
            "Looking in indexes: https://pypi.org/simple, https://us-python.pkg.dev/colab-wheels/public/simple/\n",
            "Collecting arabic-stopwords\n",
            "  Downloading Arabic_Stopwords-0.3-py3-none-any.whl (353 kB)\n",
            "\u001b[K     |████████████████████████████████| 353 kB 38.7 MB/s \n",
            "\u001b[?25hCollecting pyarabic>=0.6.2\n",
            "  Downloading PyArabic-0.6.15-py3-none-any.whl (126 kB)\n",
            "\u001b[K     |████████████████████████████████| 126 kB 73.3 MB/s \n",
            "\u001b[?25hRequirement already satisfied: six>=1.14.0 in /usr/local/lib/python3.8/dist-packages (from pyarabic>=0.6.2->arabic-stopwords) (1.15.0)\n",
            "Installing collected packages: pyarabic, arabic-stopwords\n",
            "Successfully installed arabic-stopwords-0.3 pyarabic-0.6.15\n",
            "Looking in indexes: https://pypi.org/simple, https://us-python.pkg.dev/colab-wheels/public/simple/\n",
            "Collecting nlpaug\n",
            "  Downloading nlpaug-1.1.11-py3-none-any.whl (410 kB)\n",
            "\u001b[K     |████████████████████████████████| 410 kB 33.2 MB/s \n",
            "\u001b[?25hRequirement already satisfied: pandas>=1.2.0 in /usr/local/lib/python3.8/dist-packages (from nlpaug) (1.3.5)\n",
            "Requirement already satisfied: numpy>=1.16.2 in /usr/local/lib/python3.8/dist-packages (from nlpaug) (1.21.6)\n",
            "Requirement already satisfied: gdown>=4.0.0 in /usr/local/lib/python3.8/dist-packages (from nlpaug) (4.4.0)\n",
            "Requirement already satisfied: requests>=2.22.0 in /usr/local/lib/python3.8/dist-packages (from nlpaug) (2.23.0)\n",
            "Requirement already satisfied: tqdm in /usr/local/lib/python3.8/dist-packages (from gdown>=4.0.0->nlpaug) (4.64.1)\n",
            "Requirement already satisfied: six in /usr/local/lib/python3.8/dist-packages (from gdown>=4.0.0->nlpaug) (1.15.0)\n",
            "Requirement already satisfied: beautifulsoup4 in /usr/local/lib/python3.8/dist-packages (from gdown>=4.0.0->nlpaug) (4.6.3)\n",
            "Requirement already satisfied: filelock in /usr/local/lib/python3.8/dist-packages (from gdown>=4.0.0->nlpaug) (3.8.0)\n",
            "Requirement already satisfied: python-dateutil>=2.7.3 in /usr/local/lib/python3.8/dist-packages (from pandas>=1.2.0->nlpaug) (2.8.2)\n",
            "Requirement already satisfied: pytz>=2017.3 in /usr/local/lib/python3.8/dist-packages (from pandas>=1.2.0->nlpaug) (2022.6)\n",
            "Requirement already satisfied: idna<3,>=2.5 in /usr/local/lib/python3.8/dist-packages (from requests>=2.22.0->nlpaug) (2.10)\n",
            "Requirement already satisfied: certifi>=2017.4.17 in /usr/local/lib/python3.8/dist-packages (from requests>=2.22.0->nlpaug) (2022.9.24)\n",
            "Requirement already satisfied: chardet<4,>=3.0.2 in /usr/local/lib/python3.8/dist-packages (from requests>=2.22.0->nlpaug) (3.0.4)\n",
            "Requirement already satisfied: urllib3!=1.25.0,!=1.25.1,<1.26,>=1.21.1 in /usr/local/lib/python3.8/dist-packages (from requests>=2.22.0->nlpaug) (1.24.3)\n",
            "Requirement already satisfied: PySocks!=1.5.7,>=1.5.6 in /usr/local/lib/python3.8/dist-packages (from requests>=2.22.0->nlpaug) (1.7.1)\n",
            "Installing collected packages: nlpaug\n",
            "Successfully installed nlpaug-1.1.11\n",
            "Looking in indexes: https://pypi.org/simple, https://us-python.pkg.dev/colab-wheels/public/simple/\n",
            "Collecting tashaphyne\n",
            "  Downloading Tashaphyne-0.3.6-py3-none-any.whl (251 kB)\n",
            "\u001b[K     |████████████████████████████████| 251 kB 39.1 MB/s \n",
            "\u001b[?25hRequirement already satisfied: pyarabic in /usr/local/lib/python3.8/dist-packages (from tashaphyne) (0.6.15)\n",
            "Requirement already satisfied: six>=1.14.0 in /usr/local/lib/python3.8/dist-packages (from pyarabic->tashaphyne) (1.15.0)\n",
            "Installing collected packages: tashaphyne\n",
            "Successfully installed tashaphyne-0.3.6\n"
          ]
        }
      ]
    },
    {
      "cell_type": "code",
      "execution_count": 4,
      "metadata": {
        "id": "y_HpEEE4LEyd",
        "colab": {
          "base_uri": "https://localhost:8080/"
        },
        "outputId": "e13a9e1e-17a5-47cc-b05b-ec1aecabba02"
      },
      "outputs": [
        {
          "output_type": "stream",
          "name": "stderr",
          "text": [
            "[nltk_data] Downloading package punkt to /root/nltk_data...\n",
            "[nltk_data]   Unzipping tokenizers/punkt.zip.\n"
          ]
        }
      ],
      "source": [
        "import pandas as pd\n",
        "import numpy as np\n",
        "import nltk\n",
        "from nltk.corpus import stopwords\n",
        "import re\n",
        "import spacy\n",
        "import seaborn as sns\n",
        "from sklearn.metrics.pairwise import cosine_similarity, cosine_distances\n",
        "from tqdm.auto import tqdm\n",
        "from sklearn.datasets import fetch_20newsgroups\n",
        "from sklearn.metrics import classification_report\n",
        "import random\n",
        "from termcolor import colored\n",
        "\n",
        "\n",
        "import tensorflow as tf\n",
        "from tensorflow import keras\n",
        "import matplotlib.pyplot as plt\n",
        "import os\n",
        "\n",
        "from tensorflow.keras.preprocessing.text import Tokenizer\n",
        "from tensorflow.keras.preprocessing.sequence import pad_sequences\n",
        "from sklearn.model_selection import train_test_split\n",
        "from sklearn.metrics import classification_report, confusion_matrix\n",
        "from tensorflow.keras.layers import Embedding, Flatten, Dense\n",
        "import seaborn as sns\n",
        "\n",
        "from tensorflow.keras.models import Sequential\n",
        "from tensorflow.keras import models\n",
        "from tensorflow.keras import layers\n",
        "from tensorflow.keras.utils import plot_model\n",
        "from keras.layers import Dense, Bidirectional, Embedding, LSTM\n",
        "\n",
        "\n",
        "import random \n",
        "import transformers\n",
        "from transformers import  AutoModel,AutoTokenizer\n",
        "import arabicstopwords.arabicstopwords as ast\n",
        "import matplotlib.pyplot as plt\n",
        "%matplotlib inline\n",
        "import nltk\n",
        "nltk.download('punkt')\n",
        "from sklearn.model_selection import train_test_split\n",
        "import pickle\n",
        "from nltk.corpus import stopwords\n",
        "from textblob import TextBlob\n",
        "import re\n",
        "from tashaphyne.stemming import ArabicLightStemmer\n",
        "from nltk.stem.isri import ISRIStemmer\n"
      ]
    },
    {
      "cell_type": "code",
      "source": [
        "data = pd.read_csv(\"/content/Names_data_all.csv\")\n",
        "data"
      ],
      "metadata": {
        "id": "snLHJvcHLRmG",
        "colab": {
          "base_uri": "https://localhost:8080/",
          "height": 424
        },
        "outputId": "a74c77e1-c2f0-45d9-8d70-63512be63c65"
      },
      "execution_count": 5,
      "outputs": [
        {
          "output_type": "execute_result",
          "data": {
            "text/plain": [
              "                        Name  Label\n",
              "0          إحتفاظ دتاس روحان      1\n",
              "1             آدذ رضين عرندس      0\n",
              "2            لشولق عارف سراج      1\n",
              "3                 آر خزو اكز      0\n",
              "4          ُبى ريم بدالوهّاب      1\n",
              "...                      ...    ...\n",
              "24627          يقظاة نشي اهر      0\n",
              "24628       فرحون اليف ضرغام      1\n",
              "24629    يوخاوخة ضاردط رؤوحخ      0\n",
              "24630      فريد عبدالحي نظام      1\n",
              "24631  يُمصعى عبدانفنفه عفيف      0\n",
              "\n",
              "[24632 rows x 2 columns]"
            ],
            "text/html": [
              "\n",
              "  <div id=\"df-f38bd7d4-b78c-4623-8231-572161cf17ec\">\n",
              "    <div class=\"colab-df-container\">\n",
              "      <div>\n",
              "<style scoped>\n",
              "    .dataframe tbody tr th:only-of-type {\n",
              "        vertical-align: middle;\n",
              "    }\n",
              "\n",
              "    .dataframe tbody tr th {\n",
              "        vertical-align: top;\n",
              "    }\n",
              "\n",
              "    .dataframe thead th {\n",
              "        text-align: right;\n",
              "    }\n",
              "</style>\n",
              "<table border=\"1\" class=\"dataframe\">\n",
              "  <thead>\n",
              "    <tr style=\"text-align: right;\">\n",
              "      <th></th>\n",
              "      <th>Name</th>\n",
              "      <th>Label</th>\n",
              "    </tr>\n",
              "  </thead>\n",
              "  <tbody>\n",
              "    <tr>\n",
              "      <th>0</th>\n",
              "      <td>إحتفاظ دتاس روحان</td>\n",
              "      <td>1</td>\n",
              "    </tr>\n",
              "    <tr>\n",
              "      <th>1</th>\n",
              "      <td>آدذ رضين عرندس</td>\n",
              "      <td>0</td>\n",
              "    </tr>\n",
              "    <tr>\n",
              "      <th>2</th>\n",
              "      <td>لشولق عارف سراج</td>\n",
              "      <td>1</td>\n",
              "    </tr>\n",
              "    <tr>\n",
              "      <th>3</th>\n",
              "      <td>آر خزو اكز</td>\n",
              "      <td>0</td>\n",
              "    </tr>\n",
              "    <tr>\n",
              "      <th>4</th>\n",
              "      <td>ُبى ريم بدالوهّاب</td>\n",
              "      <td>1</td>\n",
              "    </tr>\n",
              "    <tr>\n",
              "      <th>...</th>\n",
              "      <td>...</td>\n",
              "      <td>...</td>\n",
              "    </tr>\n",
              "    <tr>\n",
              "      <th>24627</th>\n",
              "      <td>يقظاة نشي اهر</td>\n",
              "      <td>0</td>\n",
              "    </tr>\n",
              "    <tr>\n",
              "      <th>24628</th>\n",
              "      <td>فرحون اليف ضرغام</td>\n",
              "      <td>1</td>\n",
              "    </tr>\n",
              "    <tr>\n",
              "      <th>24629</th>\n",
              "      <td>يوخاوخة ضاردط رؤوحخ</td>\n",
              "      <td>0</td>\n",
              "    </tr>\n",
              "    <tr>\n",
              "      <th>24630</th>\n",
              "      <td>فريد عبدالحي نظام</td>\n",
              "      <td>1</td>\n",
              "    </tr>\n",
              "    <tr>\n",
              "      <th>24631</th>\n",
              "      <td>يُمصعى عبدانفنفه عفيف</td>\n",
              "      <td>0</td>\n",
              "    </tr>\n",
              "  </tbody>\n",
              "</table>\n",
              "<p>24632 rows × 2 columns</p>\n",
              "</div>\n",
              "      <button class=\"colab-df-convert\" onclick=\"convertToInteractive('df-f38bd7d4-b78c-4623-8231-572161cf17ec')\"\n",
              "              title=\"Convert this dataframe to an interactive table.\"\n",
              "              style=\"display:none;\">\n",
              "        \n",
              "  <svg xmlns=\"http://www.w3.org/2000/svg\" height=\"24px\"viewBox=\"0 0 24 24\"\n",
              "       width=\"24px\">\n",
              "    <path d=\"M0 0h24v24H0V0z\" fill=\"none\"/>\n",
              "    <path d=\"M18.56 5.44l.94 2.06.94-2.06 2.06-.94-2.06-.94-.94-2.06-.94 2.06-2.06.94zm-11 1L8.5 8.5l.94-2.06 2.06-.94-2.06-.94L8.5 2.5l-.94 2.06-2.06.94zm10 10l.94 2.06.94-2.06 2.06-.94-2.06-.94-.94-2.06-.94 2.06-2.06.94z\"/><path d=\"M17.41 7.96l-1.37-1.37c-.4-.4-.92-.59-1.43-.59-.52 0-1.04.2-1.43.59L10.3 9.45l-7.72 7.72c-.78.78-.78 2.05 0 2.83L4 21.41c.39.39.9.59 1.41.59.51 0 1.02-.2 1.41-.59l7.78-7.78 2.81-2.81c.8-.78.8-2.07 0-2.86zM5.41 20L4 18.59l7.72-7.72 1.47 1.35L5.41 20z\"/>\n",
              "  </svg>\n",
              "      </button>\n",
              "      \n",
              "  <style>\n",
              "    .colab-df-container {\n",
              "      display:flex;\n",
              "      flex-wrap:wrap;\n",
              "      gap: 12px;\n",
              "    }\n",
              "\n",
              "    .colab-df-convert {\n",
              "      background-color: #E8F0FE;\n",
              "      border: none;\n",
              "      border-radius: 50%;\n",
              "      cursor: pointer;\n",
              "      display: none;\n",
              "      fill: #1967D2;\n",
              "      height: 32px;\n",
              "      padding: 0 0 0 0;\n",
              "      width: 32px;\n",
              "    }\n",
              "\n",
              "    .colab-df-convert:hover {\n",
              "      background-color: #E2EBFA;\n",
              "      box-shadow: 0px 1px 2px rgba(60, 64, 67, 0.3), 0px 1px 3px 1px rgba(60, 64, 67, 0.15);\n",
              "      fill: #174EA6;\n",
              "    }\n",
              "\n",
              "    [theme=dark] .colab-df-convert {\n",
              "      background-color: #3B4455;\n",
              "      fill: #D2E3FC;\n",
              "    }\n",
              "\n",
              "    [theme=dark] .colab-df-convert:hover {\n",
              "      background-color: #434B5C;\n",
              "      box-shadow: 0px 1px 3px 1px rgba(0, 0, 0, 0.15);\n",
              "      filter: drop-shadow(0px 1px 2px rgba(0, 0, 0, 0.3));\n",
              "      fill: #FFFFFF;\n",
              "    }\n",
              "  </style>\n",
              "\n",
              "      <script>\n",
              "        const buttonEl =\n",
              "          document.querySelector('#df-f38bd7d4-b78c-4623-8231-572161cf17ec button.colab-df-convert');\n",
              "        buttonEl.style.display =\n",
              "          google.colab.kernel.accessAllowed ? 'block' : 'none';\n",
              "\n",
              "        async function convertToInteractive(key) {\n",
              "          const element = document.querySelector('#df-f38bd7d4-b78c-4623-8231-572161cf17ec');\n",
              "          const dataTable =\n",
              "            await google.colab.kernel.invokeFunction('convertToInteractive',\n",
              "                                                     [key], {});\n",
              "          if (!dataTable) return;\n",
              "\n",
              "          const docLinkHtml = 'Like what you see? Visit the ' +\n",
              "            '<a target=\"_blank\" href=https://colab.research.google.com/notebooks/data_table.ipynb>data table notebook</a>'\n",
              "            + ' to learn more about interactive tables.';\n",
              "          element.innerHTML = '';\n",
              "          dataTable['output_type'] = 'display_data';\n",
              "          await google.colab.output.renderOutput(dataTable, element);\n",
              "          const docLink = document.createElement('div');\n",
              "          docLink.innerHTML = docLinkHtml;\n",
              "          element.appendChild(docLink);\n",
              "        }\n",
              "      </script>\n",
              "    </div>\n",
              "  </div>\n",
              "  "
            ]
          },
          "metadata": {},
          "execution_count": 5
        }
      ]
    },
    {
      "cell_type": "code",
      "source": [
        "import pyarabic.araby as araby\n"
      ],
      "metadata": {
        "id": "r6z5lw5UkxHB"
      },
      "execution_count": 6,
      "outputs": []
    },
    {
      "cell_type": "code",
      "source": [
        "ArListem = ArabicLightStemmer()\n",
        "\n",
        "def stem(text):\n",
        "    zen = TextBlob(text)\n",
        "    words = zen.words\n",
        "    cleaned = list()\n",
        "    for w in words:\n",
        "        ArListem.light_stem(w)\n",
        "        cleaned.append(ArListem.get_root())\n",
        "    return \" \".join(cleaned)\n",
        "\n",
        "import pyarabic.araby as araby\n",
        "def normalizeArabic(text):\n",
        "    text = text.strip()\n",
        "    text = re.sub(\"[إأٱآا]\", \"ا\", text)\n",
        "    text = re.sub(\"ى\", \"ي\", text)\n",
        "    text = re.sub(\"ؤ\", \"ء\", text)\n",
        "    text = re.sub(\"ئ\", \"ء\", text)\n",
        "    text = re.sub(\"ة\", \"ه\", text)\n",
        "    noise = re.compile(\"\"\" ّ    | # Tashdid\n",
        "                             َ    | # Fatha\n",
        "                             ً    | # Tanwin Fath\n",
        "                             ُ    | # Damma\n",
        "                             ٌ    | # Tanwin Damm\n",
        "                             ِ    | # Kasra\n",
        "                             ٍ    | # Tanwin Kasr\n",
        "                             ْ    | # Sukun\n",
        "                             ـ     # Tatwil/Kashida\n",
        "                         \"\"\", re.VERBOSE)\n",
        "    text = re.sub(noise, '', text)\n",
        "    text = re.sub(r'(.)\\1+', r\"\\1\\1\", text) # Remove longation\n",
        "    return araby.strip_tashkeel(text)"
      ],
      "metadata": {
        "id": "e58GnQ5IDPgQ"
      },
      "execution_count": 7,
      "outputs": []
    },
    {
      "cell_type": "code",
      "source": [
        "def clean_text(text):\n",
        "    ## Remove punctuations\n",
        "    text = re.sub('[%s]' % re.escape(\"\"\"!\"#$%&'()*+,،-./:;<=>؟?@[\\]^_`{|}~\"\"\"), ' ', text)\n",
        "    ## remove extra whitespace\n",
        "    text = re.sub('\\s+', ' ', text)  \n",
        "    ## Convert text to lowercases\n",
        "    text = text.lower()\n",
        "    ## Remove numbers\n",
        "    text = re.sub(\"\\d+\", \" \", text)\n",
        "    ## Remove Tashkeel\n",
        "    text = normalizeArabic(text)\n",
        "    #text = re.sub('\\W+', ' ', text)\n",
        "    text = re.sub('[A-Za-z]+',' ',text)\n",
        "    text = re.sub(r'\\\\u[A-Za-z0-9\\\\]+',' ',text)\n",
        "    ## remove extra whitespace\n",
        "    text = re.sub('\\s+', ' ', text)  \n",
        "    #Stemming\n",
        "    text = stem(text)\n",
        "    return text\n",
        "\n"
      ],
      "metadata": {
        "id": "LOT_f9PRAyYJ"
      },
      "execution_count": 8,
      "outputs": []
    },
    {
      "cell_type": "code",
      "source": [
        "df = data['Name'].apply(lambda x:clean_text(x))\n",
        "df"
      ],
      "metadata": {
        "id": "rdyUrCcWL6qZ",
        "colab": {
          "base_uri": "https://localhost:8080/"
        },
        "outputId": "9d1b7d87-925f-4ec5-c707-4b8e0c6fa659"
      },
      "execution_count": 9,
      "outputs": [
        {
          "output_type": "execute_result",
          "data": {
            "text/plain": [
              "0            حتفظ دوس رحو\n",
              "1           ودذ رضن عرندس\n",
              "2             شلق عرف روج\n",
              "3               ر خزز وكز\n",
              "4             بي ريم دلهب\n",
              "               ...       \n",
              "24627         يقظ نشش وهر\n",
              "24628        فرح ليف ضرغم\n",
              "24629       خخه ضردط رءحخ\n",
              "24630       فرد عبدلح نظم\n",
              "24631    مصع عبدنفنفه عفف\n",
              "Name: Name, Length: 24632, dtype: object"
            ]
          },
          "metadata": {},
          "execution_count": 9
        }
      ]
    },
    {
      "cell_type": "code",
      "source": [
        "max_len = max([len(t) for t in df])\n",
        "max_len"
      ],
      "metadata": {
        "id": "simBzHe-NVPR",
        "colab": {
          "base_uri": "https://localhost:8080/"
        },
        "outputId": "701fef01-84b8-4b8b-9080-acf70187e388"
      },
      "execution_count": 10,
      "outputs": [
        {
          "output_type": "execute_result",
          "data": {
            "text/plain": [
              "26"
            ]
          },
          "metadata": {},
          "execution_count": 10
        }
      ]
    },
    {
      "cell_type": "code",
      "source": [
        "x_train, x_val ,y_train ,y_val = train_test_split(df,data.Label,test_size=0.3,shuffle=True)\n",
        "x_val, x_test , y_val, y_test= train_test_split(x_val,y_val, test_size=0.5, random_state=42,shuffle=True)"
      ],
      "metadata": {
        "id": "_wfxCqNJNod0"
      },
      "execution_count": 11,
      "outputs": []
    },
    {
      "cell_type": "code",
      "source": [
        "x_train.shape"
      ],
      "metadata": {
        "id": "gG78f9hrOVwS",
        "colab": {
          "base_uri": "https://localhost:8080/"
        },
        "outputId": "6f7d2ef9-952f-43b3-db23-7c9a2034e8f9"
      },
      "execution_count": 12,
      "outputs": [
        {
          "output_type": "execute_result",
          "data": {
            "text/plain": [
              "(17242,)"
            ]
          },
          "metadata": {},
          "execution_count": 12
        }
      ]
    },
    {
      "cell_type": "code",
      "source": [],
      "metadata": {
        "id": "PKyLvjzwB7Gm"
      },
      "execution_count": 12,
      "outputs": []
    },
    {
      "cell_type": "code",
      "source": [
        "tokenizer = Tokenizer(oov_token=\"oov\")\n",
        "tokenizer.fit_on_texts(x_train)\n",
        "word_index = tokenizer.word_index"
      ],
      "metadata": {
        "id": "nbaVgRqjOYoE"
      },
      "execution_count": 13,
      "outputs": []
    },
    {
      "cell_type": "code",
      "source": [
        "tokenizer_seq_train = tokenizer.texts_to_sequences(x_train)\n",
        "tokenized_seq_val = tokenizer.texts_to_sequences(x_val)\n",
        "tokenized_seq_test = tokenizer.texts_to_sequences(x_test)\n",
        "\n",
        "\n",
        "y_train = np.asarray(y_train).astype('float32')\n",
        "y_val = np.asarray(y_val).astype('float32')\n",
        "y_test = np.asarray(y_test).astype('float32')\n",
        "\n",
        "\n",
        "tokenizer_seq_train = pad_sequences(tokenizer_seq_train, maxlen=max_len, padding='post',truncating='post')\n",
        "tokenized_seq_val = pad_sequences(tokenized_seq_val, maxlen=max_len, padding='post', truncating='post')\n",
        "tokenized_seq_test = pad_sequences(tokenized_seq_test, maxlen=max_len, padding='post', truncating='post')"
      ],
      "metadata": {
        "id": "UGJHIhWXO1Er"
      },
      "execution_count": 14,
      "outputs": []
    },
    {
      "cell_type": "code",
      "source": [
        "print(tokenizer_seq_train.shape)\n",
        "print(tokenized_seq_val.shape)"
      ],
      "metadata": {
        "id": "cL8jWsCLO4KW",
        "colab": {
          "base_uri": "https://localhost:8080/"
        },
        "outputId": "4cb02aa1-e6ae-4077-baf2-d667d6051da5"
      },
      "execution_count": 15,
      "outputs": [
        {
          "output_type": "stream",
          "name": "stdout",
          "text": [
            "(17242, 26)\n",
            "(3695, 26)\n"
          ]
        }
      ]
    },
    {
      "cell_type": "code",
      "source": [
        "y_train.shape"
      ],
      "metadata": {
        "id": "Sn9T7DBVO6c9",
        "colab": {
          "base_uri": "https://localhost:8080/"
        },
        "outputId": "9696098c-46ae-4f71-8917-05ffd30bc030"
      },
      "execution_count": 16,
      "outputs": [
        {
          "output_type": "execute_result",
          "data": {
            "text/plain": [
              "(17242,)"
            ]
          },
          "metadata": {},
          "execution_count": 16
        }
      ]
    },
    {
      "cell_type": "code",
      "source": [
        "y_train"
      ],
      "metadata": {
        "colab": {
          "base_uri": "https://localhost:8080/"
        },
        "id": "iQ2QTh-KEfEo",
        "outputId": "014e9a12-32d1-406f-ac0f-d7d2eff43161"
      },
      "execution_count": 17,
      "outputs": [
        {
          "output_type": "execute_result",
          "data": {
            "text/plain": [
              "array([1., 1., 0., ..., 0., 1., 1.], dtype=float32)"
            ]
          },
          "metadata": {},
          "execution_count": 17
        }
      ]
    },
    {
      "cell_type": "code",
      "source": [
        "x_train"
      ],
      "metadata": {
        "colab": {
          "base_uri": "https://localhost:8080/"
        },
        "id": "3LESa7_skNV9",
        "outputId": "dc069279-6ce6-4786-ee92-d01279a51a46"
      },
      "execution_count": 18,
      "outputs": [
        {
          "output_type": "execute_result",
          "data": {
            "text/plain": [
              "7156      حكو عبدلغفر ضبر\n",
              "16688         زكء كنع ذلق\n",
              "4825          ظطف عرر ضصخ\n",
              "24288         عول ثمم رضو\n",
              "1474          ريع كنز سطح\n",
              "               ...       \n",
              "18711    جهزد ءسحبءق ثطثم\n",
              "8488      فتن مرن عبدلجبر\n",
              "21117         جير غدد رشد\n",
              "4012          ذءع ليغ نبي\n",
              "11058         رجء غتن حتم\n",
              "Name: Name, Length: 17242, dtype: object"
            ]
          },
          "metadata": {},
          "execution_count": 18
        }
      ]
    },
    {
      "cell_type": "code",
      "source": [
        "len(tokenizer.word_index)"
      ],
      "metadata": {
        "id": "TQ8RSnfKO-Sq",
        "colab": {
          "base_uri": "https://localhost:8080/"
        },
        "outputId": "76cd0361-7c4b-4bf8-bcfa-b409f20ffc11"
      },
      "execution_count": 19,
      "outputs": [
        {
          "output_type": "execute_result",
          "data": {
            "text/plain": [
              "11370"
            ]
          },
          "metadata": {},
          "execution_count": 19
        }
      ]
    },
    {
      "cell_type": "code",
      "source": [
        "max_vocab = len(tokenizer.word_index)\n",
        "max_vocab"
      ],
      "metadata": {
        "colab": {
          "base_uri": "https://localhost:8080/"
        },
        "id": "cCzwBgmBTrOX",
        "outputId": "db4e1780-fb65-4b89-cf9d-47e6e01d7dc9"
      },
      "execution_count": 20,
      "outputs": [
        {
          "output_type": "execute_result",
          "data": {
            "text/plain": [
              "11370"
            ]
          },
          "metadata": {},
          "execution_count": 20
        }
      ]
    },
    {
      "cell_type": "markdown",
      "source": [
        "# Bidirection_LSTM"
      ],
      "metadata": {
        "id": "vtnKAOh99vrK"
      }
    },
    {
      "cell_type": "code",
      "source": [
        "# embedding_size = len(tokenizer.word_index)\n",
        "# vocab_sz = 200\n",
        "# model = Sequential()\n",
        "# model.add(Embedding(vocab_sz+1, embedding_size, mask_zero=True, input_length=max_len))\n",
        "# model.add(Bidirectional(LSTM(128, return_sequences=True, dropout = 0.5)))\n",
        "# model.add(Bidirectional(LSTM(64,return_sequences=True, dropout = 0.4)))\n",
        "# model.add(Bidirectional(LSTM(16, dropout = 0.3)))\n",
        "# model.add(Dense(8, activation='relu'))\n",
        "# model.add(Dense(1, activation = 'sigmoid'))\n",
        "\n",
        "# model.compile(optimizer='adam', loss='binary_crossentropy', metrics=['acc'])\n",
        "# model.summary()\n",
        "\n",
        "\n",
        "model = tf.keras.Sequential([\n",
        "    tf.keras.layers.Embedding(max_vocab, 32),\n",
        "    tf.keras.layers.Bidirectional(tf.keras.layers.LSTM(64,  return_sequences=True)),\n",
        "    tf.keras.layers.Bidirectional(tf.keras.layers.LSTM(16)),\n",
        "    tf.keras.layers.Dense(64, activation='relu'),\n",
        "    tf.keras.layers.Dropout(0.5),\n",
        "    tf.keras.layers.Dense(1,activation='sigmoid')\n",
        "])\n",
        "\n",
        "model.summary()\n"
      ],
      "metadata": {
        "id": "HzbYvwMWPKC4",
        "colab": {
          "base_uri": "https://localhost:8080/"
        },
        "outputId": "1402dc32-3c11-4067-bef1-39ca1476decf"
      },
      "execution_count": 75,
      "outputs": [
        {
          "output_type": "stream",
          "name": "stdout",
          "text": [
            "Model: \"sequential_4\"\n",
            "_________________________________________________________________\n",
            " Layer (type)                Output Shape              Param #   \n",
            "=================================================================\n",
            " embedding_4 (Embedding)     (None, None, 32)          359392    \n",
            "                                                                 \n",
            " bidirectional_5 (Bidirectio  (None, None, 128)        49664     \n",
            " nal)                                                            \n",
            "                                                                 \n",
            " bidirectional_6 (Bidirectio  (None, 32)               18560     \n",
            " nal)                                                            \n",
            "                                                                 \n",
            " dense_5 (Dense)             (None, 64)                2112      \n",
            "                                                                 \n",
            " dropout_1 (Dropout)         (None, 64)                0         \n",
            "                                                                 \n",
            " dense_6 (Dense)             (None, 1)                 65        \n",
            "                                                                 \n",
            "=================================================================\n",
            "Total params: 429,793\n",
            "Trainable params: 429,793\n",
            "Non-trainable params: 0\n",
            "_________________________________________________________________\n"
          ]
        }
      ]
    },
    {
      "cell_type": "code",
      "source": [
        "# We are going to use early stop, which stops when the validation loss no longer improve.\n",
        "early_stop = tf.keras.callbacks.EarlyStopping(monitor='val_loss', patience=2, restore_best_weights=True)\n",
        "model.compile(loss=tf.keras.losses.BinaryCrossentropy(from_logits=True),\n",
        "              optimizer=tf.keras.optimizers.Adam(1e-4),\n",
        "              metrics=['accuracy'])\n",
        "\n",
        "history = model.fit(tokenizer_seq_train, y_train, \n",
        "                    epochs=15,validation_split=0.1, \n",
        "                    batch_size=128, shuffle=True, \n",
        "                    callbacks=[early_stop],\n",
        "                    validation_data = (tokenized_seq_val, y_val))"
      ],
      "metadata": {
        "id": "izGN9fskPYV2",
        "colab": {
          "base_uri": "https://localhost:8080/"
        },
        "outputId": "751350ad-b79a-4e34-d1e9-bf6744321833"
      },
      "execution_count": 76,
      "outputs": [
        {
          "output_type": "stream",
          "name": "stdout",
          "text": [
            "Epoch 1/15\n"
          ]
        },
        {
          "output_type": "stream",
          "name": "stderr",
          "text": [
            "/usr/local/lib/python3.8/dist-packages/tensorflow/python/util/dispatch.py:1082: UserWarning: \"`binary_crossentropy` received `from_logits=True`, but the `output` argument was produced by a sigmoid or softmax activation and thus does not represent logits. Was this intended?\"\n",
            "  return dispatch_target(*args, **kwargs)\n"
          ]
        },
        {
          "output_type": "stream",
          "name": "stdout",
          "text": [
            "135/135 [==============================] - 9s 23ms/step - loss: 0.6931 - accuracy: 0.5100 - val_loss: 0.6922 - val_accuracy: 0.5088\n",
            "Epoch 2/15\n",
            "135/135 [==============================] - 2s 12ms/step - loss: 0.6912 - accuracy: 0.5687 - val_loss: 0.6865 - val_accuracy: 0.7886\n",
            "Epoch 3/15\n",
            "135/135 [==============================] - 2s 16ms/step - loss: 0.5296 - accuracy: 0.8008 - val_loss: 0.3764 - val_accuracy: 0.8382\n",
            "Epoch 4/15\n",
            "135/135 [==============================] - 2s 15ms/step - loss: 0.2986 - accuracy: 0.8855 - val_loss: 0.3042 - val_accuracy: 0.8804\n",
            "Epoch 5/15\n",
            "135/135 [==============================] - 2s 12ms/step - loss: 0.2338 - accuracy: 0.9174 - val_loss: 0.2777 - val_accuracy: 0.8888\n",
            "Epoch 6/15\n",
            "135/135 [==============================] - 2s 12ms/step - loss: 0.2045 - accuracy: 0.9322 - val_loss: 0.2681 - val_accuracy: 0.8942\n",
            "Epoch 7/15\n",
            "135/135 [==============================] - 2s 12ms/step - loss: 0.1818 - accuracy: 0.9422 - val_loss: 0.2673 - val_accuracy: 0.8969\n",
            "Epoch 8/15\n",
            "135/135 [==============================] - 2s 12ms/step - loss: 0.1694 - accuracy: 0.9459 - val_loss: 0.2610 - val_accuracy: 0.8988\n",
            "Epoch 9/15\n",
            "135/135 [==============================] - 2s 12ms/step - loss: 0.1590 - accuracy: 0.9501 - val_loss: 0.2637 - val_accuracy: 0.9026\n",
            "Epoch 10/15\n",
            "135/135 [==============================] - 2s 12ms/step - loss: 0.1549 - accuracy: 0.9517 - val_loss: 0.2645 - val_accuracy: 0.8988\n"
          ]
        }
      ]
    },
    {
      "cell_type": "code",
      "source": [
        "loss, accuracy = model.evaluate(tokenized_seq_test, y_test)\n",
        "print('Accuracy: %f' % (accuracy*100))"
      ],
      "metadata": {
        "id": "yJe2uT3oQFvq",
        "colab": {
          "base_uri": "https://localhost:8080/"
        },
        "outputId": "a771b07c-ae52-489a-87fb-4e9b7cfaf6bd"
      },
      "execution_count": 77,
      "outputs": [
        {
          "output_type": "stream",
          "name": "stdout",
          "text": [
            "116/116 [==============================] - 1s 5ms/step - loss: 0.2928 - accuracy: 0.8877\n",
            "Accuracy: 88.768607\n"
          ]
        }
      ]
    },
    {
      "cell_type": "code",
      "source": [
        "history_dict = history.history\n",
        "\n",
        "acc = history_dict['accuracy']\n",
        "val_acc = history_dict['val_accuracy']\n",
        "loss = history_dict['loss']\n",
        "val_loss = history_dict['val_loss']\n",
        "epochs = history.epoch\n",
        "\n",
        "plt.figure(figsize=(10,5))\n",
        "plt.plot(epochs, loss, 'r', label='Training loss')\n",
        "plt.plot(epochs, val_loss, 'b', label='Validation loss')\n",
        "plt.title('Training and validation loss', size=20)\n",
        "plt.xlabel('Epochs', size=20)\n",
        "plt.ylabel('Loss', size=20)\n",
        "plt.legend(prop={'size': 20})\n",
        "plt.show()\n",
        "\n",
        "plt.figure(figsize=(10,5))\n",
        "plt.plot(epochs, acc, 'g', label='Training acc')\n",
        "plt.plot(epochs, val_acc, 'b', label='Validation acc')\n",
        "plt.title('Training and validation accuracy', size=20)\n",
        "plt.xlabel('Epochs', size=20)\n",
        "plt.ylabel('Accuracy', size=20)\n",
        "plt.legend(prop={'size': 20})\n",
        "plt.ylim((0.5,1))\n",
        "plt.show()"
      ],
      "metadata": {
        "colab": {
          "base_uri": "https://localhost:8080/",
          "height": 711
        },
        "id": "FQRbvNyv_H6g",
        "outputId": "b9663d33-0a6c-4a49-adc4-f6eafdcdaf1d"
      },
      "execution_count": 78,
      "outputs": [
        {
          "output_type": "display_data",
          "data": {
            "text/plain": [
              "<Figure size 720x360 with 1 Axes>"
            ],
            "image/png": "[encoded data removed]"
          },
          "metadata": {
            "needs_background": "light"
          }
        },
        {
          "output_type": "display_data",
          "data": {
            "text/plain": [
              "<Figure size 720x360 with 1 Axes>"
            ],
            "image/png": "[encoded data removed]"
          },
          "metadata": {
            "needs_background": "light"
          }
        }
      ]
    },
    {
      "cell_type": "code",
      "source": [],
      "metadata": {
        "id": "OVpg5WS56WA5"
      },
      "execution_count": null,
      "outputs": []
    },
    {
      "cell_type": "markdown",
      "source": [
        "# LSTM"
      ],
      "metadata": {
        "id": "vAoUEOJb9HIL"
      }
    },
    {
      "cell_type": "code",
      "source": [
        "model_lstm = tf.keras.Sequential([\n",
        "        tf.keras.layers.Embedding(max_vocab, 100, input_length=max_len),\n",
        "        tf.keras.layers.Bidirectional(tf.keras.layers.LSTM(32)),\n",
        "        tf.keras.layers.Dense(1, activation='sigmoid')\n",
        "])"
      ],
      "metadata": {
        "id": "wTBgGebp9F88"
      },
      "execution_count": 79,
      "outputs": []
    },
    {
      "cell_type": "code",
      "source": [
        "early_stop = tf.keras.callbacks.EarlyStopping(monitor='val_loss', patience=2, restore_best_weights=True)\n",
        "model_lstm.compile(loss=tf.keras.losses.BinaryCrossentropy(from_logits=True),\n",
        "              optimizer=\"adam\",\n",
        "              metrics=['accuracy'])\n",
        "model_lstm.summary()"
      ],
      "metadata": {
        "id": "5iKH_HZg9WML",
        "colab": {
          "base_uri": "https://localhost:8080/"
        },
        "outputId": "2b96082c-d63e-44a3-d1e8-ae06f5a56750"
      },
      "execution_count": 80,
      "outputs": [
        {
          "output_type": "stream",
          "name": "stdout",
          "text": [
            "Model: \"sequential_5\"\n",
            "_________________________________________________________________\n",
            " Layer (type)                Output Shape              Param #   \n",
            "=================================================================\n",
            " embedding_5 (Embedding)     (None, 26, 100)           1123100   \n",
            "                                                                 \n",
            " bidirectional_7 (Bidirectio  (None, 64)               34048     \n",
            " nal)                                                            \n",
            "                                                                 \n",
            " dense_7 (Dense)             (None, 1)                 65        \n",
            "                                                                 \n",
            "=================================================================\n",
            "Total params: 1,157,213\n",
            "Trainable params: 1,157,213\n",
            "Non-trainable params: 0\n",
            "_________________________________________________________________\n"
          ]
        }
      ]
    },
    {
      "cell_type": "code",
      "source": [
        "history = model_lstm.fit(tokenizer_seq_train, y_train, \n",
        "                    epochs=30,validation_split=0.1, \n",
        "                    batch_size=128, shuffle=True, \n",
        "                    callbacks=[early_stop],\n",
        "                    validation_data = (tokenized_seq_val, y_val))"
      ],
      "metadata": {
        "colab": {
          "base_uri": "https://localhost:8080/"
        },
        "id": "IGoa301zCw9l",
        "outputId": "d24dc435-e01a-4a48-ceaf-e64a43f17b95"
      },
      "execution_count": 81,
      "outputs": [
        {
          "output_type": "stream",
          "name": "stdout",
          "text": [
            "Epoch 1/30\n",
            "135/135 [==============================] - 5s 14ms/step - loss: 0.5589 - accuracy: 0.7253 - val_loss: 0.3483 - val_accuracy: 0.8579\n",
            "Epoch 2/30\n",
            "135/135 [==============================] - 1s 8ms/step - loss: 0.2428 - accuracy: 0.9079 - val_loss: 0.2427 - val_accuracy: 0.9164\n",
            "Epoch 3/30\n",
            "135/135 [==============================] - 1s 8ms/step - loss: 0.1774 - accuracy: 0.9404 - val_loss: 0.2240 - val_accuracy: 0.9188\n",
            "Epoch 4/30\n",
            "135/135 [==============================] - 1s 8ms/step - loss: 0.1589 - accuracy: 0.9450 - val_loss: 0.2370 - val_accuracy: 0.9083\n",
            "Epoch 5/30\n",
            "135/135 [==============================] - 1s 8ms/step - loss: 0.1531 - accuracy: 0.9472 - val_loss: 0.2280 - val_accuracy: 0.9142\n"
          ]
        }
      ]
    },
    {
      "cell_type": "code",
      "source": [
        "loss, accuracy = model_lstm.evaluate(tokenized_seq_test, y_test)\n",
        "print('Accuracy: %f' % (accuracy*100))"
      ],
      "metadata": {
        "id": "7W8iN9GY9Z-a",
        "colab": {
          "base_uri": "https://localhost:8080/"
        },
        "outputId": "1dd2c2e0-7467-4da3-e6df-ae7945f68409"
      },
      "execution_count": 82,
      "outputs": [
        {
          "output_type": "stream",
          "name": "stdout",
          "text": [
            "116/116 [==============================] - 0s 4ms/step - loss: 0.2566 - accuracy: 0.8980\n",
            "Accuracy: 89.797026\n"
          ]
        }
      ]
    },
    {
      "cell_type": "markdown",
      "source": [
        "# GRU"
      ],
      "metadata": {
        "id": "sCemiEAFHScp"
      }
    },
    {
      "cell_type": "code",
      "source": [
        "model_gru = tf.keras.Sequential([\n",
        "    tf.keras.layers.Embedding(800, 100, input_length=max_len),\n",
        "    tf.keras.layers.Bidirectional(tf.keras.layers.GRU(32)),\n",
        "    tf.keras.layers.Dense(1, activation='sigmoid')\n",
        "])\n",
        "\n",
        "learning_rate = 0.00003 \n",
        "model_gru.compile(loss='binary_crossentropy',\n",
        "                  optimizer=tf.keras.optimizers.Adam(learning_rate),\n",
        "                  metrics=['accuracy'])\n",
        "\n",
        "model_gru.summary()"
      ],
      "metadata": {
        "colab": {
          "base_uri": "https://localhost:8080/"
        },
        "id": "WTyxxYCIGYTq",
        "outputId": "ad4ad59e-c749-42a5-8423-24f32984ac81"
      },
      "execution_count": 21,
      "outputs": [
        {
          "output_type": "stream",
          "name": "stdout",
          "text": [
            "Model: \"sequential\"\n",
            "_________________________________________________________________\n",
            " Layer (type)                Output Shape              Param #   \n",
            "=================================================================\n",
            " embedding (Embedding)       (None, 26, 100)           80000     \n",
            "                                                                 \n",
            " bidirectional (Bidirectiona  (None, 64)               25728     \n",
            " l)                                                              \n",
            "                                                                 \n",
            " dense (Dense)               (None, 1)                 65        \n",
            "                                                                 \n",
            "=================================================================\n",
            "Total params: 105,793\n",
            "Trainable params: 105,793\n",
            "Non-trainable params: 0\n",
            "_________________________________________________________________\n"
          ]
        }
      ]
    },
    {
      "cell_type": "code",
      "source": [
        "model_gru.fit(tokenizer_seq_train, y_train, epochs=10, validation_data=(tokenized_seq_val, y_val))"
      ],
      "metadata": {
        "colab": {
          "base_uri": "https://localhost:8080/"
        },
        "id": "sE77c4lyHbT7",
        "outputId": "d7676d90-d349-4f62-94f9-2c8950b98b36"
      },
      "execution_count": 22,
      "outputs": [
        {
          "output_type": "stream",
          "name": "stdout",
          "text": [
            "Epoch 1/10\n",
            "539/539 [==============================] - 15s 15ms/step - loss: 0.6924 - accuracy: 0.5767 - val_loss: 0.6876 - val_accuracy: 0.6836\n",
            "Epoch 2/10\n",
            "539/539 [==============================] - 7s 14ms/step - loss: 0.6885 - accuracy: 0.6948 - val_loss: 0.6827 - val_accuracy: 0.7813\n",
            "Epoch 3/10\n",
            "539/539 [==============================] - 7s 14ms/step - loss: 0.6796 - accuracy: 0.7670 - val_loss: 0.6702 - val_accuracy: 0.7970\n",
            "Epoch 4/10\n",
            "539/539 [==============================] - 7s 12ms/step - loss: 0.6566 - accuracy: 0.7943 - val_loss: 0.6382 - val_accuracy: 0.7943\n",
            "Epoch 5/10\n",
            "539/539 [==============================] - 6s 12ms/step - loss: 0.6055 - accuracy: 0.8048 - val_loss: 0.5778 - val_accuracy: 0.7981\n",
            "Epoch 6/10\n",
            "539/539 [==============================] - 5s 8ms/step - loss: 0.5350 - accuracy: 0.8091 - val_loss: 0.5150 - val_accuracy: 0.7949\n",
            "Epoch 7/10\n",
            "539/539 [==============================] - 4s 7ms/step - loss: 0.4732 - accuracy: 0.8121 - val_loss: 0.4712 - val_accuracy: 0.7981\n",
            "Epoch 8/10\n",
            "539/539 [==============================] - 4s 7ms/step - loss: 0.4329 - accuracy: 0.8193 - val_loss: 0.4460 - val_accuracy: 0.8016\n",
            "Epoch 9/10\n",
            "539/539 [==============================] - 4s 7ms/step - loss: 0.4090 - accuracy: 0.8274 - val_loss: 0.4330 - val_accuracy: 0.8095\n",
            "Epoch 10/10\n",
            "539/539 [==============================] - 4s 8ms/step - loss: 0.3936 - accuracy: 0.8315 - val_loss: 0.4250 - val_accuracy: 0.8081\n"
          ]
        },
        {
          "output_type": "execute_result",
          "data": {
            "text/plain": [
              "<keras.callbacks.History at 0x7fd546e63160>"
            ]
          },
          "metadata": {},
          "execution_count": 22
        }
      ]
    },
    {
      "cell_type": "code",
      "source": [
        "from tensorflow.keras.utils import plot_model\n",
        "plot_model(model_gru)"
      ],
      "metadata": {
        "colab": {
          "base_uri": "https://localhost:8080/",
          "height": 369
        },
        "id": "5speDf-MHq-c",
        "outputId": "8a1eacc7-9a3d-475b-f9b7-3ef3151e912c"
      },
      "execution_count": 23,
      "outputs": [
        {
          "output_type": "execute_result",
          "data": {
            "image/png": "[encoded data removed]",
            "text/plain": [
              "<IPython.core.display.Image object>"
            ]
          },
          "metadata": {},
          "execution_count": 23
        }
      ]
    },
    {
      "cell_type": "markdown",
      "source": [
        "# Evaluate"
      ],
      "metadata": {
        "id": "69XvTVV0HVlv"
      }
    },
    {
      "cell_type": "code",
      "source": [
        "Name1 = ['احمد اسلام عوض']\n",
        "Name2 = ['باسم وحيد السيد']\n",
        "Name3 = ['باسم يبلي سيلبس']\n"
      ],
      "metadata": {
        "id": "sETKbPnUkvYN"
      },
      "execution_count": 111,
      "outputs": []
    },
    {
      "cell_type": "code",
      "source": [],
      "metadata": {
        "id": "HLIu1yr5Vj8f"
      },
      "execution_count": 111,
      "outputs": []
    },
    {
      "cell_type": "code",
      "source": [
        "# df_test = pd.DataFrame(Names)\n",
        "testing = []\n",
        "print(Name1) \n",
        "\n",
        "# preprocess the sequences\n",
        "testing.append(clean_text(Name1[0]))\n",
        "\n",
        "# Create the sequences\n",
        "padding_type='post'\n",
        "sample_sequences = tokenizer.texts_to_sequences(testing)\n",
        "fakes_padded = pad_sequences(sample_sequences, padding=padding_type, maxlen=max_len)                      \n",
        "print(fakes_padded)\n",
        "classes = model.predict(fakes_padded)\n",
        "\n",
        "# The closer the class is to 1, the more positive the review is deemed to be\n",
        "print(Name1)\n",
        "print(f'Confidence Score :{classes[0][0]}')\n",
        "print('\\n')"
      ],
      "metadata": {
        "colab": {
          "base_uri": "https://localhost:8080/"
        },
        "id": "5q6H2Dnbmuvn",
        "outputId": "3e985e38-df91-438f-a30e-895630df69cb"
      },
      "execution_count": 115,
      "outputs": [
        {
          "output_type": "stream",
          "name": "stdout",
          "text": [
            "['احمد اسلام عوض']\n",
            "[[ 2 25  1  0  0  0  0  0  0  0  0  0  0  0  0  0  0  0  0  0  0  0  0  0\n",
            "   0  0]]\n",
            "1/1 [==============================] - 0s 19ms/step\n",
            "['احمد اسلام عوض']\n",
            "Confidence Score :0.7284524440765381\n",
            "\n",
            "\n"
          ]
        }
      ]
    },
    {
      "cell_type": "markdown",
      "source": [
        "# "
      ],
      "metadata": {
        "id": "BvKPw-XpuiBR"
      }
    },
    {
      "cell_type": "code",
      "source": [
        "# df_test = pd.DataFrame(Names)\n",
        "testing = []\n",
        "print(Name2) \n",
        "\n",
        "# preprocess the sequences\n",
        "testing.append(clean_text(Name2[0]))\n",
        "\n",
        "# Create the sequences\n",
        "padding_type='post'\n",
        "sample_sequences = tokenizer.texts_to_sequences(testing)\n",
        "fakes_padded = pad_sequences(sample_sequences, padding=padding_type, maxlen=max_len)                      \n",
        "\n",
        "classes = model_gru.predict(fakes_padded)\n",
        "\n",
        "# The closer the class is to 1, the more positive the review is deemed to be\n",
        "print(Name2)\n",
        "print(f'Confidence Score :{classes[0][0]}')\n",
        "print('\\n')"
      ],
      "metadata": {
        "id": "8uojsAOh-yed",
        "colab": {
          "base_uri": "https://localhost:8080/"
        },
        "outputId": "930466d4-d534-4a6e-8c99-aaf32181063c"
      },
      "execution_count": 105,
      "outputs": [
        {
          "output_type": "stream",
          "name": "stdout",
          "text": [
            "['باسم وحيد السيد']\n",
            "1/1 [==============================] - 0s 19ms/step\n",
            "['باسم وحيد السيد']\n",
            "Confidence Score :0.7054824829101562\n",
            "\n",
            "\n"
          ]
        }
      ]
    },
    {
      "cell_type": "code",
      "source": [
        "# df_test = pd.DataFrame(Names)\n",
        "testing = []\n",
        "print(Name3) \n",
        "\n",
        "# preprocess the sequences\n",
        "testing.append(clean_text(Name3[0]))\n",
        "\n",
        "# Create the sequences\n",
        "padding_type='post'\n",
        "sample_sequences = tokenizer.texts_to_sequences(testing)\n",
        "fakes_padded = pad_sequences(sample_sequences, padding=padding_type, maxlen=max_len)                      \n",
        "classes = model_gru.predict(fakes_padded)\n",
        "\n",
        "# The closer the class is to 1, the more positive the review is deemed to be\n",
        "print(Name3)\n",
        "print(f'Confidence Score :{classes[0][0]}')\n",
        "print('\\n')"
      ],
      "metadata": {
        "colab": {
          "base_uri": "https://localhost:8080/"
        },
        "id": "nbuXn94hIVuY",
        "outputId": "5dd7ca56-4a56-4596-9d60-4b2c54d8ffd2"
      },
      "execution_count": 114,
      "outputs": [
        {
          "output_type": "stream",
          "name": "stdout",
          "text": [
            "['باسم يبلي سيلبس']\n",
            "1/1 [==============================] - 0s 19ms/step\n",
            "['باسم يبلي سيلبس']\n",
            "Confidence Score :0.3801479637622833\n",
            "\n",
            "\n"
          ]
        }
      ]
    },
    {
      "cell_type": "markdown",
      "source": [
        "# Saving the model"
      ],
      "metadata": {
        "id": "SN0fczcG-BhW"
      }
    },
    {
      "cell_type": "code",
      "source": [
        "from keras.models import load_model\n",
        "model_gru.save(\"network.h5\")"
      ],
      "metadata": {
        "id": "CMcdY7ZhZz6K"
      },
      "execution_count": 96,
      "outputs": []
    },
    {
      "cell_type": "code",
      "source": [
        "import pickle\n",
        "\n",
        "# saving\n",
        "with open('tokenizer.pickle', 'wb') as handle:\n",
        "    pickle.dump(tokenizer, handle, protocol=pickle.HIGHEST_PROTOCOL)\n",
        "\n",
        "# loading\n",
        "# with open('tokenizer.pickle', 'rb') as handle:\n",
        "#     tokenizer = pickle.load(handle)"
      ],
      "metadata": {
        "id": "6n2kZ0nkbSQg"
      },
      "execution_count": 107,
      "outputs": []
    },
    {
      "cell_type": "code",
      "source": [
        "# import pickle\n",
        "\n",
        "# filename = 'RealFakeName_model.sav'\n",
        "# pickle.dump(model_gru, open(filename, 'wb'))"
      ],
      "metadata": {
        "id": "n2VNjWk6Qnie"
      },
      "execution_count": null,
      "outputs": []
    },
    {
      "cell_type": "code",
      "source": [
        "# from joblib import Parallel, delayed\n",
        "# import joblib\n",
        "  \n",
        "  \n",
        "# # Save the model as a pickle in a file\n",
        "# joblib.dump(model, 'RealFakeName_model.pkl')"
      ],
      "metadata": {
        "id": "luV-JfdQ7hy4"
      },
      "execution_count": null,
      "outputs": []
    },
    {
      "cell_type": "code",
      "source": [
        "# joblib.dump(model_lstm, 'RealFakeName_model_LSTM.pkl')"
      ],
      "metadata": {
        "id": "tbPw2oVy1PCV"
      },
      "execution_count": null,
      "outputs": []
    },
    {
      "cell_type": "code",
      "source": [
        "# import time\n",
        "# t = time.time()\n",
        "\n",
        "# export_path_keras = \"/content/gdrive/MyDrive/model/{}.h5\".format(int(t))\n",
        "# print(export_path_keras)\n",
        "\n",
        "# model_gru.save(export_path_keras)"
      ],
      "metadata": {
        "id": "jz48Bq426Jby",
        "colab": {
          "base_uri": "https://localhost:8080/"
        },
        "outputId": "ac03fcd0-ef46-4369-97c4-52c1870dd8ad"
      },
      "execution_count": 95,
      "outputs": [
        {
          "output_type": "stream",
          "name": "stdout",
          "text": [
            "/content/gdrive/MyDrive/model/1670731988.h5\n"
          ]
        }
      ]
    },
    {
      "cell_type": "code",
      "source": [],
      "metadata": {
        "id": "C108-vSBYvy-"
      },
      "execution_count": null,
      "outputs": []
    }
  ]
}